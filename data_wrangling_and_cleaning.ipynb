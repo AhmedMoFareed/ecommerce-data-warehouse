{
 "cells": [
  {
   "cell_type": "code",
   "execution_count": 1,
   "metadata": {},
   "outputs": [],
   "source": [
    "import pandas as pd\n",
    "import os \n",
    "import glob\n",
    "import pyodbc"
   ]
  },
  {
   "cell_type": "code",
   "execution_count": 2,
   "metadata": {},
   "outputs": [],
   "source": [
    "file_path = r\".\\\\ecommerce dataset\"\n",
    "SERVER = 'amf'\n"
   ]
  },
  {
   "cell_type": "code",
   "execution_count": 3,
   "metadata": {},
   "outputs": [
    {
     "data": {
      "text/plain": [
       "['feedback_dataset',\n",
       " 'order_dataset',\n",
       " 'order_item_dataset',\n",
       " 'payment_dataset',\n",
       " 'products_dataset',\n",
       " 'seller_dataset',\n",
       " 'user_dataset']"
      ]
     },
     "execution_count": 3,
     "metadata": {},
     "output_type": "execute_result"
    }
   ],
   "source": [
    "def import_csv_files(folder_path):\n",
    "    df_names = []\n",
    "    csv_files = glob.glob(folder_path + '/*.csv')\n",
    "    dataframes = {}\n",
    "    for file in csv_files:\n",
    "        file_name = file.split('/')[-1].split('.')[1].replace('\\\\', ' ').strip()\n",
    "        df_names.append(file_name)\n",
    "        df = pd.read_csv(file)\n",
    "        dataframes[file_name] = df\n",
    "    return dataframes,df_names\n",
    "dataframes,df_names = import_csv_files(file_path)\n",
    "df_names"
   ]
  },
  {
   "cell_type": "markdown",
   "metadata": {},
   "source": [
    "lets start exploring user dataset"
   ]
  },
  {
   "cell_type": "code",
   "execution_count": 4,
   "metadata": {},
   "outputs": [
    {
     "name": "stdout",
     "output_type": "stream",
     "text": [
      "Index(['user_name', 'customer_zip_code', 'customer_city', 'customer_state'], dtype='object')\n"
     ]
    },
    {
     "data": {
      "text/html": [
       "<div>\n",
       "<style scoped>\n",
       "    .dataframe tbody tr th:only-of-type {\n",
       "        vertical-align: middle;\n",
       "    }\n",
       "\n",
       "    .dataframe tbody tr th {\n",
       "        vertical-align: top;\n",
       "    }\n",
       "\n",
       "    .dataframe thead th {\n",
       "        text-align: right;\n",
       "    }\n",
       "</style>\n",
       "<table border=\"1\" class=\"dataframe\">\n",
       "  <thead>\n",
       "    <tr style=\"text-align: right;\">\n",
       "      <th></th>\n",
       "      <th>user_name</th>\n",
       "      <th>customer_zip_code</th>\n",
       "      <th>customer_city</th>\n",
       "      <th>customer_state</th>\n",
       "    </tr>\n",
       "  </thead>\n",
       "  <tbody>\n",
       "    <tr>\n",
       "      <th>0</th>\n",
       "      <td>861eff4711a542e4b93843c6dd7febb0</td>\n",
       "      <td>14409</td>\n",
       "      <td>KABUPATEN PEKALONGAN</td>\n",
       "      <td>JAWA TENGAH</td>\n",
       "    </tr>\n",
       "    <tr>\n",
       "      <th>1</th>\n",
       "      <td>290c77bc529b7ac935b93aa66c333dc3</td>\n",
       "      <td>9790</td>\n",
       "      <td>KOTA BEKASI</td>\n",
       "      <td>JAWA BARAT</td>\n",
       "    </tr>\n",
       "  </tbody>\n",
       "</table>\n",
       "</div>"
      ],
      "text/plain": [
       "                          user_name  customer_zip_code         customer_city  \\\n",
       "0  861eff4711a542e4b93843c6dd7febb0              14409  KABUPATEN PEKALONGAN   \n",
       "1  290c77bc529b7ac935b93aa66c333dc3               9790           KOTA BEKASI   \n",
       "\n",
       "  customer_state  \n",
       "0    JAWA TENGAH  \n",
       "1     JAWA BARAT  "
      ]
     },
     "execution_count": 4,
     "metadata": {},
     "output_type": "execute_result"
    }
   ],
   "source": [
    "user_df = dataframes[df_names[6]]\n",
    "print(user_df.columns)\n",
    "user_df.head(2)"
   ]
  },
  {
   "cell_type": "code",
   "execution_count": 5,
   "metadata": {},
   "outputs": [
    {
     "name": "stdout",
     "output_type": "stream",
     "text": [
      "<class 'pandas.core.frame.DataFrame'>\n",
      "RangeIndex: 99441 entries, 0 to 99440\n",
      "Data columns (total 4 columns):\n",
      " #   Column             Non-Null Count  Dtype \n",
      "---  ------             --------------  ----- \n",
      " 0   user_name          99441 non-null  object\n",
      " 1   customer_zip_code  99441 non-null  int64 \n",
      " 2   customer_city      99441 non-null  object\n",
      " 3   customer_state     99441 non-null  object\n",
      "dtypes: int64(1), object(3)\n",
      "memory usage: 3.0+ MB\n"
     ]
    }
   ],
   "source": [
    "user_df.info()"
   ]
  },
  {
   "cell_type": "code",
   "execution_count": 6,
   "metadata": {},
   "outputs": [
    {
     "data": {
      "text/plain": [
       "3089"
      ]
     },
     "execution_count": 6,
     "metadata": {},
     "output_type": "execute_result"
    }
   ],
   "source": [
    "user_df.duplicated().sum()"
   ]
  },
  {
   "cell_type": "code",
   "execution_count": 7,
   "metadata": {},
   "outputs": [
    {
     "data": {
      "text/plain": [
       "count                                99441\n",
       "unique                               96096\n",
       "top       8d50f5eadf50201ccdcedfb9e2ac8455\n",
       "freq                                    17\n",
       "Name: user_name, dtype: object"
      ]
     },
     "execution_count": 7,
     "metadata": {},
     "output_type": "execute_result"
    }
   ],
   "source": [
    "user_df['user_name'].describe()"
   ]
  },
  {
   "cell_type": "code",
   "execution_count": 8,
   "metadata": {},
   "outputs": [
    {
     "data": {
      "text/plain": [
       "0"
      ]
     },
     "execution_count": 8,
     "metadata": {},
     "output_type": "execute_result"
    }
   ],
   "source": [
    "user_df.drop_duplicates(inplace=True)\n",
    "user_df.duplicated().sum()"
   ]
  },
  {
   "cell_type": "code",
   "execution_count": 9,
   "metadata": {},
   "outputs": [
    {
     "data": {
      "text/plain": [
       "user_name            0\n",
       "customer_zip_code    0\n",
       "customer_city        0\n",
       "customer_state       0\n",
       "dtype: int64"
      ]
     },
     "execution_count": 9,
     "metadata": {},
     "output_type": "execute_result"
    }
   ],
   "source": [
    "user_df.isnull().sum()  "
   ]
  },
  {
   "cell_type": "markdown",
   "metadata": {},
   "source": [
    "now lets move to next dataset"
   ]
  },
  {
   "cell_type": "code",
   "execution_count": 10,
   "metadata": {},
   "outputs": [
    {
     "name": "stdout",
     "output_type": "stream",
     "text": [
      "Index(['seller_id', 'seller_zip_code', 'seller_city', 'seller_state'], dtype='object')\n"
     ]
    },
    {
     "data": {
      "text/html": [
       "<div>\n",
       "<style scoped>\n",
       "    .dataframe tbody tr th:only-of-type {\n",
       "        vertical-align: middle;\n",
       "    }\n",
       "\n",
       "    .dataframe tbody tr th {\n",
       "        vertical-align: top;\n",
       "    }\n",
       "\n",
       "    .dataframe thead th {\n",
       "        text-align: right;\n",
       "    }\n",
       "</style>\n",
       "<table border=\"1\" class=\"dataframe\">\n",
       "  <thead>\n",
       "    <tr style=\"text-align: right;\">\n",
       "      <th></th>\n",
       "      <th>seller_id</th>\n",
       "      <th>seller_zip_code</th>\n",
       "      <th>seller_city</th>\n",
       "      <th>seller_state</th>\n",
       "    </tr>\n",
       "  </thead>\n",
       "  <tbody>\n",
       "    <tr>\n",
       "      <th>0</th>\n",
       "      <td>3442f8959a84dea7ee197c632cb2df15</td>\n",
       "      <td>13023</td>\n",
       "      <td>KOTA JAKARTA TIMUR</td>\n",
       "      <td>DKI JAKARTA</td>\n",
       "    </tr>\n",
       "    <tr>\n",
       "      <th>1</th>\n",
       "      <td>d1b65fc7debc3361ea86b5f14c68d2e2</td>\n",
       "      <td>13844</td>\n",
       "      <td>KOTA PADANG PANJANG</td>\n",
       "      <td>SUMATERA BARAT</td>\n",
       "    </tr>\n",
       "  </tbody>\n",
       "</table>\n",
       "</div>"
      ],
      "text/plain": [
       "                          seller_id  seller_zip_code          seller_city  \\\n",
       "0  3442f8959a84dea7ee197c632cb2df15            13023   KOTA JAKARTA TIMUR   \n",
       "1  d1b65fc7debc3361ea86b5f14c68d2e2            13844  KOTA PADANG PANJANG   \n",
       "\n",
       "     seller_state  \n",
       "0     DKI JAKARTA  \n",
       "1  SUMATERA BARAT  "
      ]
     },
     "execution_count": 10,
     "metadata": {},
     "output_type": "execute_result"
    }
   ],
   "source": [
    "seller_df= dataframes['seller_dataset']\n",
    "print(seller_df.columns)\n",
    "seller_df.head(2)"
   ]
  },
  {
   "cell_type": "code",
   "execution_count": 11,
   "metadata": {},
   "outputs": [
    {
     "name": "stdout",
     "output_type": "stream",
     "text": [
      "<class 'pandas.core.frame.DataFrame'>\n",
      "RangeIndex: 3095 entries, 0 to 3094\n",
      "Data columns (total 4 columns):\n",
      " #   Column           Non-Null Count  Dtype \n",
      "---  ------           --------------  ----- \n",
      " 0   seller_id        3095 non-null   object\n",
      " 1   seller_zip_code  3095 non-null   int64 \n",
      " 2   seller_city      3095 non-null   object\n",
      " 3   seller_state     3095 non-null   object\n",
      "dtypes: int64(1), object(3)\n",
      "memory usage: 96.8+ KB\n"
     ]
    }
   ],
   "source": [
    "seller_df.info()"
   ]
  },
  {
   "cell_type": "code",
   "execution_count": 12,
   "metadata": {},
   "outputs": [
    {
     "data": {
      "text/plain": [
       "0"
      ]
     },
     "execution_count": 12,
     "metadata": {},
     "output_type": "execute_result"
    }
   ],
   "source": [
    "seller_df.duplicated().sum()"
   ]
  },
  {
   "cell_type": "code",
   "execution_count": 13,
   "metadata": {},
   "outputs": [
    {
     "data": {
      "text/plain": [
       "count                                 3095\n",
       "unique                                3095\n",
       "top       3442f8959a84dea7ee197c632cb2df15\n",
       "freq                                     1\n",
       "Name: seller_id, dtype: object"
      ]
     },
     "execution_count": 13,
     "metadata": {},
     "output_type": "execute_result"
    }
   ],
   "source": [
    "seller_df['seller_id'].describe()"
   ]
  },
  {
   "cell_type": "code",
   "execution_count": 14,
   "metadata": {},
   "outputs": [
    {
     "data": {
      "text/plain": [
       "seller_id          0\n",
       "seller_zip_code    0\n",
       "seller_city        0\n",
       "seller_state       0\n",
       "dtype: int64"
      ]
     },
     "execution_count": 14,
     "metadata": {},
     "output_type": "execute_result"
    }
   ],
   "source": [
    "seller_df.isnull().sum()"
   ]
  },
  {
   "cell_type": "code",
   "execution_count": 15,
   "metadata": {},
   "outputs": [
    {
     "name": "stdout",
     "output_type": "stream",
     "text": [
      "Index(['product_id', 'product_category', 'product_name_lenght',\n",
      "       'product_description_lenght', 'product_photos_qty', 'product_weight_g',\n",
      "       'product_length_cm', 'product_height_cm', 'product_width_cm'],\n",
      "      dtype='object')\n"
     ]
    },
    {
     "data": {
      "text/html": [
       "<div>\n",
       "<style scoped>\n",
       "    .dataframe tbody tr th:only-of-type {\n",
       "        vertical-align: middle;\n",
       "    }\n",
       "\n",
       "    .dataframe tbody tr th {\n",
       "        vertical-align: top;\n",
       "    }\n",
       "\n",
       "    .dataframe thead th {\n",
       "        text-align: right;\n",
       "    }\n",
       "</style>\n",
       "<table border=\"1\" class=\"dataframe\">\n",
       "  <thead>\n",
       "    <tr style=\"text-align: right;\">\n",
       "      <th></th>\n",
       "      <th>product_id</th>\n",
       "      <th>product_category</th>\n",
       "      <th>product_name_lenght</th>\n",
       "      <th>product_description_lenght</th>\n",
       "      <th>product_photos_qty</th>\n",
       "      <th>product_weight_g</th>\n",
       "      <th>product_length_cm</th>\n",
       "      <th>product_height_cm</th>\n",
       "      <th>product_width_cm</th>\n",
       "    </tr>\n",
       "  </thead>\n",
       "  <tbody>\n",
       "    <tr>\n",
       "      <th>0</th>\n",
       "      <td>1e9e8ef04dbcff4541ed26657ea517e5</td>\n",
       "      <td>perfumery</td>\n",
       "      <td>40.0</td>\n",
       "      <td>287.0</td>\n",
       "      <td>1.0</td>\n",
       "      <td>225.0</td>\n",
       "      <td>16.0</td>\n",
       "      <td>10.0</td>\n",
       "      <td>14.0</td>\n",
       "    </tr>\n",
       "    <tr>\n",
       "      <th>1</th>\n",
       "      <td>3aa071139cb16b67ca9e5dea641aaa2f</td>\n",
       "      <td>art</td>\n",
       "      <td>44.0</td>\n",
       "      <td>276.0</td>\n",
       "      <td>1.0</td>\n",
       "      <td>1000.0</td>\n",
       "      <td>30.0</td>\n",
       "      <td>18.0</td>\n",
       "      <td>20.0</td>\n",
       "    </tr>\n",
       "  </tbody>\n",
       "</table>\n",
       "</div>"
      ],
      "text/plain": [
       "                         product_id product_category  product_name_lenght  \\\n",
       "0  1e9e8ef04dbcff4541ed26657ea517e5        perfumery                 40.0   \n",
       "1  3aa071139cb16b67ca9e5dea641aaa2f              art                 44.0   \n",
       "\n",
       "   product_description_lenght  product_photos_qty  product_weight_g  \\\n",
       "0                       287.0                 1.0             225.0   \n",
       "1                       276.0                 1.0            1000.0   \n",
       "\n",
       "   product_length_cm  product_height_cm  product_width_cm  \n",
       "0               16.0               10.0              14.0  \n",
       "1               30.0               18.0              20.0  "
      ]
     },
     "execution_count": 15,
     "metadata": {},
     "output_type": "execute_result"
    }
   ],
   "source": [
    "product_df = dataframes[df_names[4]]\n",
    "print(product_df.columns)\n",
    "product_df.head(2)"
   ]
  },
  {
   "cell_type": "code",
   "execution_count": 16,
   "metadata": {},
   "outputs": [
    {
     "name": "stdout",
     "output_type": "stream",
     "text": [
      "<class 'pandas.core.frame.DataFrame'>\n",
      "RangeIndex: 32951 entries, 0 to 32950\n",
      "Data columns (total 9 columns):\n",
      " #   Column                      Non-Null Count  Dtype  \n",
      "---  ------                      --------------  -----  \n",
      " 0   product_id                  32951 non-null  object \n",
      " 1   product_category            32328 non-null  object \n",
      " 2   product_name_lenght         32341 non-null  float64\n",
      " 3   product_description_lenght  32341 non-null  float64\n",
      " 4   product_photos_qty          32341 non-null  float64\n",
      " 5   product_weight_g            32949 non-null  float64\n",
      " 6   product_length_cm           32949 non-null  float64\n",
      " 7   product_height_cm           32949 non-null  float64\n",
      " 8   product_width_cm            32949 non-null  float64\n",
      "dtypes: float64(7), object(2)\n",
      "memory usage: 2.3+ MB\n"
     ]
    }
   ],
   "source": [
    "product_df.info()"
   ]
  },
  {
   "cell_type": "code",
   "execution_count": 17,
   "metadata": {},
   "outputs": [
    {
     "data": {
      "text/plain": [
       "product_id                      0\n",
       "product_category              623\n",
       "product_name_lenght           610\n",
       "product_description_lenght    610\n",
       "product_photos_qty            610\n",
       "product_weight_g                2\n",
       "product_length_cm               2\n",
       "product_height_cm               2\n",
       "product_width_cm                2\n",
       "dtype: int64"
      ]
     },
     "execution_count": 17,
     "metadata": {},
     "output_type": "execute_result"
    }
   ],
   "source": [
    "product_df.isnull().sum()"
   ]
  },
  {
   "cell_type": "code",
   "execution_count": 18,
   "metadata": {},
   "outputs": [
    {
     "data": {
      "text/plain": [
       "count                                32951\n",
       "unique                               32951\n",
       "top       1e9e8ef04dbcff4541ed26657ea517e5\n",
       "freq                                     1\n",
       "Name: product_id, dtype: object"
      ]
     },
     "execution_count": 18,
     "metadata": {},
     "output_type": "execute_result"
    }
   ],
   "source": [
    "product_df['product_id'].describe()"
   ]
  },
  {
   "cell_type": "code",
   "execution_count": 19,
   "metadata": {},
   "outputs": [
    {
     "data": {
      "text/plain": [
       "0"
      ]
     },
     "execution_count": 19,
     "metadata": {},
     "output_type": "execute_result"
    }
   ],
   "source": [
    "product_df.duplicated().sum()"
   ]
  },
  {
   "cell_type": "markdown",
   "metadata": {},
   "source": [
    "all the column looks good lets move to the next dataset"
   ]
  },
  {
   "cell_type": "code",
   "execution_count": 20,
   "metadata": {},
   "outputs": [
    {
     "name": "stdout",
     "output_type": "stream",
     "text": [
      "Index(['order_id', 'payment_sequential', 'payment_type',\n",
      "       'payment_installments', 'payment_value'],\n",
      "      dtype='object')\n"
     ]
    },
    {
     "data": {
      "text/html": [
       "<div>\n",
       "<style scoped>\n",
       "    .dataframe tbody tr th:only-of-type {\n",
       "        vertical-align: middle;\n",
       "    }\n",
       "\n",
       "    .dataframe tbody tr th {\n",
       "        vertical-align: top;\n",
       "    }\n",
       "\n",
       "    .dataframe thead th {\n",
       "        text-align: right;\n",
       "    }\n",
       "</style>\n",
       "<table border=\"1\" class=\"dataframe\">\n",
       "  <thead>\n",
       "    <tr style=\"text-align: right;\">\n",
       "      <th></th>\n",
       "      <th>order_id</th>\n",
       "      <th>payment_sequential</th>\n",
       "      <th>payment_type</th>\n",
       "      <th>payment_installments</th>\n",
       "      <th>payment_value</th>\n",
       "    </tr>\n",
       "  </thead>\n",
       "  <tbody>\n",
       "    <tr>\n",
       "      <th>0</th>\n",
       "      <td>b81ef226f3fe1789b1e8b2acac839d17</td>\n",
       "      <td>1</td>\n",
       "      <td>credit_card</td>\n",
       "      <td>8</td>\n",
       "      <td>99330.0</td>\n",
       "    </tr>\n",
       "    <tr>\n",
       "      <th>1</th>\n",
       "      <td>a9810da82917af2d9aefd1278f1dcfa0</td>\n",
       "      <td>1</td>\n",
       "      <td>credit_card</td>\n",
       "      <td>1</td>\n",
       "      <td>24390.0</td>\n",
       "    </tr>\n",
       "  </tbody>\n",
       "</table>\n",
       "</div>"
      ],
      "text/plain": [
       "                           order_id  payment_sequential payment_type  \\\n",
       "0  b81ef226f3fe1789b1e8b2acac839d17                   1  credit_card   \n",
       "1  a9810da82917af2d9aefd1278f1dcfa0                   1  credit_card   \n",
       "\n",
       "   payment_installments  payment_value  \n",
       "0                     8        99330.0  \n",
       "1                     1        24390.0  "
      ]
     },
     "execution_count": 20,
     "metadata": {},
     "output_type": "execute_result"
    }
   ],
   "source": [
    "payment_df = dataframes[df_names[3]]\n",
    "print(payment_df.columns)\n",
    "payment_df.head(2)"
   ]
  },
  {
   "cell_type": "code",
   "execution_count": 21,
   "metadata": {},
   "outputs": [
    {
     "name": "stdout",
     "output_type": "stream",
     "text": [
      "<class 'pandas.core.frame.DataFrame'>\n",
      "RangeIndex: 103886 entries, 0 to 103885\n",
      "Data columns (total 5 columns):\n",
      " #   Column                Non-Null Count   Dtype  \n",
      "---  ------                --------------   -----  \n",
      " 0   order_id              103886 non-null  object \n",
      " 1   payment_sequential    103886 non-null  int64  \n",
      " 2   payment_type          103886 non-null  object \n",
      " 3   payment_installments  103886 non-null  int64  \n",
      " 4   payment_value         103886 non-null  float64\n",
      "dtypes: float64(1), int64(2), object(2)\n",
      "memory usage: 4.0+ MB\n"
     ]
    }
   ],
   "source": [
    "payment_df.info()"
   ]
  },
  {
   "cell_type": "code",
   "execution_count": 22,
   "metadata": {},
   "outputs": [
    {
     "data": {
      "text/plain": [
       "0"
      ]
     },
     "execution_count": 22,
     "metadata": {},
     "output_type": "execute_result"
    }
   ],
   "source": [
    "payment_df.duplicated().sum()"
   ]
  },
  {
   "cell_type": "code",
   "execution_count": 23,
   "metadata": {},
   "outputs": [
    {
     "data": {
      "text/plain": [
       "count                               103886\n",
       "unique                               99440\n",
       "top       fa65dad1b0e818e3ccc5cb0e39231352\n",
       "freq                                    29\n",
       "Name: order_id, dtype: object"
      ]
     },
     "execution_count": 23,
     "metadata": {},
     "output_type": "execute_result"
    }
   ],
   "source": [
    "payment_df['order_id'].describe()"
   ]
  },
  {
   "cell_type": "code",
   "execution_count": 24,
   "metadata": {},
   "outputs": [
    {
     "data": {
      "text/plain": [
       "payment_type\n",
       "credit_card    76795\n",
       "blipay         19784\n",
       "voucher         5775\n",
       "debit_card      1529\n",
       "not_defined        3\n",
       "Name: count, dtype: int64"
      ]
     },
     "execution_count": 24,
     "metadata": {},
     "output_type": "execute_result"
    }
   ],
   "source": [
    "payment_df['payment_type'].value_counts()"
   ]
  },
  {
   "cell_type": "markdown",
   "metadata": {},
   "source": [
    "the next dataset is order_item dataset"
   ]
  },
  {
   "cell_type": "code",
   "execution_count": 25,
   "metadata": {},
   "outputs": [
    {
     "data": {
      "text/html": [
       "<div>\n",
       "<style scoped>\n",
       "    .dataframe tbody tr th:only-of-type {\n",
       "        vertical-align: middle;\n",
       "    }\n",
       "\n",
       "    .dataframe tbody tr th {\n",
       "        vertical-align: top;\n",
       "    }\n",
       "\n",
       "    .dataframe thead th {\n",
       "        text-align: right;\n",
       "    }\n",
       "</style>\n",
       "<table border=\"1\" class=\"dataframe\">\n",
       "  <thead>\n",
       "    <tr style=\"text-align: right;\">\n",
       "      <th></th>\n",
       "      <th>order_id</th>\n",
       "      <th>order_item_id</th>\n",
       "      <th>product_id</th>\n",
       "      <th>seller_id</th>\n",
       "      <th>pickup_limit_date</th>\n",
       "      <th>price</th>\n",
       "      <th>shipping_cost</th>\n",
       "    </tr>\n",
       "  </thead>\n",
       "  <tbody>\n",
       "    <tr>\n",
       "      <th>0</th>\n",
       "      <td>00010242fe8c5a6d1ba2dd792cb16214</td>\n",
       "      <td>1</td>\n",
       "      <td>4244733e06e7ecb4970a6e2683c13e61</td>\n",
       "      <td>48436dade18ac8b2bce089ec2a041202</td>\n",
       "      <td>2017-09-19 09:45:35</td>\n",
       "      <td>58900.0</td>\n",
       "      <td>13290.0</td>\n",
       "    </tr>\n",
       "    <tr>\n",
       "      <th>1</th>\n",
       "      <td>00018f77f2f0320c557190d7a144bdd3</td>\n",
       "      <td>1</td>\n",
       "      <td>e5f2d52b802189ee658865ca93d83a8f</td>\n",
       "      <td>dd7ddc04e1b6c2c614352b383efe2d36</td>\n",
       "      <td>2017-05-03 11:05:13</td>\n",
       "      <td>239900.0</td>\n",
       "      <td>19930.0</td>\n",
       "    </tr>\n",
       "  </tbody>\n",
       "</table>\n",
       "</div>"
      ],
      "text/plain": [
       "                           order_id  order_item_id  \\\n",
       "0  00010242fe8c5a6d1ba2dd792cb16214              1   \n",
       "1  00018f77f2f0320c557190d7a144bdd3              1   \n",
       "\n",
       "                         product_id                         seller_id  \\\n",
       "0  4244733e06e7ecb4970a6e2683c13e61  48436dade18ac8b2bce089ec2a041202   \n",
       "1  e5f2d52b802189ee658865ca93d83a8f  dd7ddc04e1b6c2c614352b383efe2d36   \n",
       "\n",
       "     pickup_limit_date     price  shipping_cost  \n",
       "0  2017-09-19 09:45:35   58900.0        13290.0  \n",
       "1  2017-05-03 11:05:13  239900.0        19930.0  "
      ]
     },
     "execution_count": 25,
     "metadata": {},
     "output_type": "execute_result"
    }
   ],
   "source": [
    "order_item_df = dataframes[df_names[2]]\n",
    "order_item_df.head(2)"
   ]
  },
  {
   "cell_type": "code",
   "execution_count": 26,
   "metadata": {},
   "outputs": [
    {
     "name": "stdout",
     "output_type": "stream",
     "text": [
      "<class 'pandas.core.frame.DataFrame'>\n",
      "RangeIndex: 112650 entries, 0 to 112649\n",
      "Data columns (total 7 columns):\n",
      " #   Column             Non-Null Count   Dtype  \n",
      "---  ------             --------------   -----  \n",
      " 0   order_id           112650 non-null  object \n",
      " 1   order_item_id      112650 non-null  int64  \n",
      " 2   product_id         112650 non-null  object \n",
      " 3   seller_id          112650 non-null  object \n",
      " 4   pickup_limit_date  112650 non-null  object \n",
      " 5   price              112650 non-null  float64\n",
      " 6   shipping_cost      112650 non-null  float64\n",
      "dtypes: float64(2), int64(1), object(4)\n",
      "memory usage: 6.0+ MB\n"
     ]
    }
   ],
   "source": [
    "order_item_df.info()"
   ]
  },
  {
   "cell_type": "code",
   "execution_count": 27,
   "metadata": {},
   "outputs": [
    {
     "data": {
      "text/plain": [
       "0"
      ]
     },
     "execution_count": 27,
     "metadata": {},
     "output_type": "execute_result"
    }
   ],
   "source": [
    "order_item_df.duplicated().sum()"
   ]
  },
  {
   "cell_type": "code",
   "execution_count": 28,
   "metadata": {},
   "outputs": [
    {
     "data": {
      "text/plain": [
       "count                               112650\n",
       "unique                               98666\n",
       "top       8272b63d03f5f79c56e9e4120aec44ef\n",
       "freq                                    21\n",
       "Name: order_id, dtype: object"
      ]
     },
     "execution_count": 28,
     "metadata": {},
     "output_type": "execute_result"
    }
   ],
   "source": [
    "order_item_df['order_id'].describe()"
   ]
  },
  {
   "cell_type": "markdown",
   "metadata": {},
   "source": [
    "next order dataset"
   ]
  },
  {
   "cell_type": "code",
   "execution_count": 29,
   "metadata": {},
   "outputs": [
    {
     "data": {
      "text/html": [
       "<div>\n",
       "<style scoped>\n",
       "    .dataframe tbody tr th:only-of-type {\n",
       "        vertical-align: middle;\n",
       "    }\n",
       "\n",
       "    .dataframe tbody tr th {\n",
       "        vertical-align: top;\n",
       "    }\n",
       "\n",
       "    .dataframe thead th {\n",
       "        text-align: right;\n",
       "    }\n",
       "</style>\n",
       "<table border=\"1\" class=\"dataframe\">\n",
       "  <thead>\n",
       "    <tr style=\"text-align: right;\">\n",
       "      <th></th>\n",
       "      <th>order_id</th>\n",
       "      <th>user_name</th>\n",
       "      <th>order_status</th>\n",
       "      <th>order_date</th>\n",
       "      <th>order_approved_date</th>\n",
       "      <th>pickup_date</th>\n",
       "      <th>delivered_date</th>\n",
       "      <th>estimated_time_delivery</th>\n",
       "    </tr>\n",
       "  </thead>\n",
       "  <tbody>\n",
       "    <tr>\n",
       "      <th>0</th>\n",
       "      <td>e481f51cbdc54678b7cc49136f2d6af7</td>\n",
       "      <td>7c396fd4830fd04220f754e42b4e5bff</td>\n",
       "      <td>delivered</td>\n",
       "      <td>2017-10-02 10:56:33</td>\n",
       "      <td>2017-10-02 11:07:15</td>\n",
       "      <td>2017-10-04 19:55:00</td>\n",
       "      <td>2017-10-10 21:25:13</td>\n",
       "      <td>2017-10-18 00:00:00</td>\n",
       "    </tr>\n",
       "    <tr>\n",
       "      <th>1</th>\n",
       "      <td>53cdb2fc8bc7dce0b6741e2150273451</td>\n",
       "      <td>af07308b275d755c9edb36a90c618231</td>\n",
       "      <td>delivered</td>\n",
       "      <td>2018-07-24 20:41:37</td>\n",
       "      <td>2018-07-26 03:24:27</td>\n",
       "      <td>2018-07-26 14:31:00</td>\n",
       "      <td>2018-08-07 15:27:45</td>\n",
       "      <td>2018-08-13 00:00:00</td>\n",
       "    </tr>\n",
       "  </tbody>\n",
       "</table>\n",
       "</div>"
      ],
      "text/plain": [
       "                           order_id                         user_name  \\\n",
       "0  e481f51cbdc54678b7cc49136f2d6af7  7c396fd4830fd04220f754e42b4e5bff   \n",
       "1  53cdb2fc8bc7dce0b6741e2150273451  af07308b275d755c9edb36a90c618231   \n",
       "\n",
       "  order_status           order_date  order_approved_date          pickup_date  \\\n",
       "0    delivered  2017-10-02 10:56:33  2017-10-02 11:07:15  2017-10-04 19:55:00   \n",
       "1    delivered  2018-07-24 20:41:37  2018-07-26 03:24:27  2018-07-26 14:31:00   \n",
       "\n",
       "        delivered_date estimated_time_delivery  \n",
       "0  2017-10-10 21:25:13     2017-10-18 00:00:00  \n",
       "1  2018-08-07 15:27:45     2018-08-13 00:00:00  "
      ]
     },
     "execution_count": 29,
     "metadata": {},
     "output_type": "execute_result"
    }
   ],
   "source": [
    "order_df = dataframes[df_names[1]]\n",
    "order_df.head(2)"
   ]
  },
  {
   "cell_type": "code",
   "execution_count": 30,
   "metadata": {},
   "outputs": [
    {
     "name": "stdout",
     "output_type": "stream",
     "text": [
      "<class 'pandas.core.frame.DataFrame'>\n",
      "RangeIndex: 99441 entries, 0 to 99440\n",
      "Data columns (total 8 columns):\n",
      " #   Column                   Non-Null Count  Dtype \n",
      "---  ------                   --------------  ----- \n",
      " 0   order_id                 99441 non-null  object\n",
      " 1   user_name                99441 non-null  object\n",
      " 2   order_status             99441 non-null  object\n",
      " 3   order_date               99441 non-null  object\n",
      " 4   order_approved_date      99281 non-null  object\n",
      " 5   pickup_date              97658 non-null  object\n",
      " 6   delivered_date           96476 non-null  object\n",
      " 7   estimated_time_delivery  99441 non-null  object\n",
      "dtypes: object(8)\n",
      "memory usage: 6.1+ MB\n"
     ]
    }
   ],
   "source": [
    "order_df.info()"
   ]
  },
  {
   "cell_type": "code",
   "execution_count": 31,
   "metadata": {},
   "outputs": [
    {
     "data": {
      "text/plain": [
       "0"
      ]
     },
     "execution_count": 31,
     "metadata": {},
     "output_type": "execute_result"
    }
   ],
   "source": [
    "order_df.duplicated().sum()"
   ]
  },
  {
   "cell_type": "code",
   "execution_count": 32,
   "metadata": {},
   "outputs": [
    {
     "data": {
      "text/plain": [
       "order_id                      0\n",
       "user_name                     0\n",
       "order_status                  0\n",
       "order_date                    0\n",
       "order_approved_date         160\n",
       "pickup_date                1783\n",
       "delivered_date             2965\n",
       "estimated_time_delivery       0\n",
       "dtype: int64"
      ]
     },
     "execution_count": 32,
     "metadata": {},
     "output_type": "execute_result"
    }
   ],
   "source": [
    "order_df.isnull().sum()"
   ]
  },
  {
   "cell_type": "code",
   "execution_count": 33,
   "metadata": {},
   "outputs": [
    {
     "data": {
      "text/plain": [
       "count                                99441\n",
       "unique                               99441\n",
       "top       e481f51cbdc54678b7cc49136f2d6af7\n",
       "freq                                     1\n",
       "Name: order_id, dtype: object"
      ]
     },
     "execution_count": 33,
     "metadata": {},
     "output_type": "execute_result"
    }
   ],
   "source": [
    "order_df['order_id'].describe() "
   ]
  },
  {
   "cell_type": "markdown",
   "metadata": {},
   "source": [
    "the last dataset is feedback dataset"
   ]
  },
  {
   "cell_type": "code",
   "execution_count": 34,
   "metadata": {},
   "outputs": [
    {
     "data": {
      "text/html": [
       "<div>\n",
       "<style scoped>\n",
       "    .dataframe tbody tr th:only-of-type {\n",
       "        vertical-align: middle;\n",
       "    }\n",
       "\n",
       "    .dataframe tbody tr th {\n",
       "        vertical-align: top;\n",
       "    }\n",
       "\n",
       "    .dataframe thead th {\n",
       "        text-align: right;\n",
       "    }\n",
       "</style>\n",
       "<table border=\"1\" class=\"dataframe\">\n",
       "  <thead>\n",
       "    <tr style=\"text-align: right;\">\n",
       "      <th></th>\n",
       "      <th>feedback_id</th>\n",
       "      <th>order_id</th>\n",
       "      <th>feedback_score</th>\n",
       "      <th>feedback_form_sent_date</th>\n",
       "      <th>feedback_answer_date</th>\n",
       "    </tr>\n",
       "  </thead>\n",
       "  <tbody>\n",
       "    <tr>\n",
       "      <th>0</th>\n",
       "      <td>7bc2406110b926393aa56f80a40eba40</td>\n",
       "      <td>73fc7af87114b39712e6da79b0a377eb</td>\n",
       "      <td>4</td>\n",
       "      <td>2018-01-18 00:00:00</td>\n",
       "      <td>2018-01-18 21:46:59</td>\n",
       "    </tr>\n",
       "    <tr>\n",
       "      <th>1</th>\n",
       "      <td>80e641a11e56f04c1ad469d5645fdfde</td>\n",
       "      <td>a548910a1c6147796b98fdf73dbeba33</td>\n",
       "      <td>5</td>\n",
       "      <td>2018-03-10 00:00:00</td>\n",
       "      <td>2018-03-11 03:05:13</td>\n",
       "    </tr>\n",
       "  </tbody>\n",
       "</table>\n",
       "</div>"
      ],
      "text/plain": [
       "                        feedback_id                          order_id  \\\n",
       "0  7bc2406110b926393aa56f80a40eba40  73fc7af87114b39712e6da79b0a377eb   \n",
       "1  80e641a11e56f04c1ad469d5645fdfde  a548910a1c6147796b98fdf73dbeba33   \n",
       "\n",
       "   feedback_score feedback_form_sent_date feedback_answer_date  \n",
       "0               4     2018-01-18 00:00:00  2018-01-18 21:46:59  \n",
       "1               5     2018-03-10 00:00:00  2018-03-11 03:05:13  "
      ]
     },
     "execution_count": 34,
     "metadata": {},
     "output_type": "execute_result"
    }
   ],
   "source": [
    "feedback_df = dataframes[df_names[0]]\n",
    "feedback_df.head(2)"
   ]
  },
  {
   "cell_type": "code",
   "execution_count": 35,
   "metadata": {},
   "outputs": [
    {
     "name": "stdout",
     "output_type": "stream",
     "text": [
      "<class 'pandas.core.frame.DataFrame'>\n",
      "RangeIndex: 100000 entries, 0 to 99999\n",
      "Data columns (total 5 columns):\n",
      " #   Column                   Non-Null Count   Dtype \n",
      "---  ------                   --------------   ----- \n",
      " 0   feedback_id              100000 non-null  object\n",
      " 1   order_id                 100000 non-null  object\n",
      " 2   feedback_score           100000 non-null  int64 \n",
      " 3   feedback_form_sent_date  100000 non-null  object\n",
      " 4   feedback_answer_date     100000 non-null  object\n",
      "dtypes: int64(1), object(4)\n",
      "memory usage: 3.8+ MB\n"
     ]
    }
   ],
   "source": [
    "feedback_df.info()"
   ]
  },
  {
   "cell_type": "code",
   "execution_count": 36,
   "metadata": {},
   "outputs": [
    {
     "data": {
      "text/plain": [
       "0"
      ]
     },
     "execution_count": 36,
     "metadata": {},
     "output_type": "execute_result"
    }
   ],
   "source": [
    "feedback_df.duplicated().sum()"
   ]
  },
  {
   "cell_type": "code",
   "execution_count": 37,
   "metadata": {},
   "outputs": [
    {
     "data": {
      "text/plain": [
       "0"
      ]
     },
     "execution_count": 37,
     "metadata": {},
     "output_type": "execute_result"
    }
   ],
   "source": [
    "feedback_df.duplicated(subset=['order_id','feedback_id' ]).sum()"
   ]
  },
  {
   "cell_type": "code",
   "execution_count": 38,
   "metadata": {},
   "outputs": [
    {
     "name": "stdout",
     "output_type": "stream",
     "text": [
      "Database Error Error connecting to the database: ('42000', '[42000] [Microsoft][ODBC SQL Server Driver][SQL Server]Cannot open database \"DWHSales\" requested by the login. The login failed. (4060) (SQLDriverConnect); [42000] [Microsoft][ODBC SQL Server Driver][SQL Server]Cannot open database \"DWHSales\" requested by the login. The login failed. (4060)')\n"
     ]
    }
   ],
   "source": [
    "\n",
    "def connect_to_db(server=SERVER):\n",
    "    try:\n",
    "        conn = pyodbc.connect(\n",
    "            'DRIVER={SQL Server};'\n",
    "            F'SERVER={SERVER};'\n",
    "            'DATABASE=DWHSales;'\n",
    "            'Trusted_Connection=yes;'\n",
    "        )\n",
    "        print(\"Database connection successful\")\n",
    "        return conn\n",
    "    except Exception as e:\n",
    "        print(\"Database Error\", f\"Error connecting to the database: {e}\")\n",
    "        return None\n",
    "conn = connect_to_db()"
   ]
  },
  {
   "cell_type": "code",
   "execution_count": 39,
   "metadata": {},
   "outputs": [
    {
     "data": {
      "text/html": [
       "<div>\n",
       "<style scoped>\n",
       "    .dataframe tbody tr th:only-of-type {\n",
       "        vertical-align: middle;\n",
       "    }\n",
       "\n",
       "    .dataframe tbody tr th {\n",
       "        vertical-align: top;\n",
       "    }\n",
       "\n",
       "    .dataframe thead th {\n",
       "        text-align: right;\n",
       "    }\n",
       "</style>\n",
       "<table border=\"1\" class=\"dataframe\">\n",
       "  <thead>\n",
       "    <tr style=\"text-align: right;\">\n",
       "      <th></th>\n",
       "      <th>feedback_id</th>\n",
       "      <th>order_id</th>\n",
       "      <th>feedback_score</th>\n",
       "      <th>feedback_form_sent_date</th>\n",
       "      <th>feedback_answer_date</th>\n",
       "    </tr>\n",
       "  </thead>\n",
       "  <tbody>\n",
       "    <tr>\n",
       "      <th>0</th>\n",
       "      <td>7bc2406110b926393aa56f80a40eba40</td>\n",
       "      <td>73fc7af87114b39712e6da79b0a377eb</td>\n",
       "      <td>4</td>\n",
       "      <td>2018-01-18 00:00:00</td>\n",
       "      <td>2018-01-18 21:46:59</td>\n",
       "    </tr>\n",
       "    <tr>\n",
       "      <th>1</th>\n",
       "      <td>80e641a11e56f04c1ad469d5645fdfde</td>\n",
       "      <td>a548910a1c6147796b98fdf73dbeba33</td>\n",
       "      <td>5</td>\n",
       "      <td>2018-03-10 00:00:00</td>\n",
       "      <td>2018-03-11 03:05:13</td>\n",
       "    </tr>\n",
       "  </tbody>\n",
       "</table>\n",
       "</div>"
      ],
      "text/plain": [
       "                        feedback_id                          order_id  \\\n",
       "0  7bc2406110b926393aa56f80a40eba40  73fc7af87114b39712e6da79b0a377eb   \n",
       "1  80e641a11e56f04c1ad469d5645fdfde  a548910a1c6147796b98fdf73dbeba33   \n",
       "\n",
       "   feedback_score feedback_form_sent_date feedback_answer_date  \n",
       "0               4     2018-01-18 00:00:00  2018-01-18 21:46:59  \n",
       "1               5     2018-03-10 00:00:00  2018-03-11 03:05:13  "
      ]
     },
     "execution_count": 39,
     "metadata": {},
     "output_type": "execute_result"
    }
   ],
   "source": [
    "counter = 0\n",
    "dataframes[df_names[counter]].head(2)"
   ]
  },
  {
   "cell_type": "code",
   "execution_count": 40,
   "metadata": {},
   "outputs": [
    {
     "data": {
      "text/html": [
       "<div>\n",
       "<style scoped>\n",
       "    .dataframe tbody tr th:only-of-type {\n",
       "        vertical-align: middle;\n",
       "    }\n",
       "\n",
       "    .dataframe tbody tr th {\n",
       "        vertical-align: top;\n",
       "    }\n",
       "\n",
       "    .dataframe thead th {\n",
       "        text-align: right;\n",
       "    }\n",
       "</style>\n",
       "<table border=\"1\" class=\"dataframe\">\n",
       "  <thead>\n",
       "    <tr style=\"text-align: right;\">\n",
       "      <th></th>\n",
       "      <th>order_id</th>\n",
       "      <th>user_name</th>\n",
       "      <th>order_status</th>\n",
       "      <th>order_date</th>\n",
       "      <th>order_approved_date</th>\n",
       "      <th>pickup_date</th>\n",
       "      <th>delivered_date</th>\n",
       "      <th>estimated_time_delivery</th>\n",
       "    </tr>\n",
       "  </thead>\n",
       "  <tbody>\n",
       "    <tr>\n",
       "      <th>0</th>\n",
       "      <td>e481f51cbdc54678b7cc49136f2d6af7</td>\n",
       "      <td>7c396fd4830fd04220f754e42b4e5bff</td>\n",
       "      <td>delivered</td>\n",
       "      <td>2017-10-02 10:56:33</td>\n",
       "      <td>2017-10-02 11:07:15</td>\n",
       "      <td>2017-10-04 19:55:00</td>\n",
       "      <td>2017-10-10 21:25:13</td>\n",
       "      <td>2017-10-18 00:00:00</td>\n",
       "    </tr>\n",
       "    <tr>\n",
       "      <th>1</th>\n",
       "      <td>53cdb2fc8bc7dce0b6741e2150273451</td>\n",
       "      <td>af07308b275d755c9edb36a90c618231</td>\n",
       "      <td>delivered</td>\n",
       "      <td>2018-07-24 20:41:37</td>\n",
       "      <td>2018-07-26 03:24:27</td>\n",
       "      <td>2018-07-26 14:31:00</td>\n",
       "      <td>2018-08-07 15:27:45</td>\n",
       "      <td>2018-08-13 00:00:00</td>\n",
       "    </tr>\n",
       "  </tbody>\n",
       "</table>\n",
       "</div>"
      ],
      "text/plain": [
       "                           order_id                         user_name  \\\n",
       "0  e481f51cbdc54678b7cc49136f2d6af7  7c396fd4830fd04220f754e42b4e5bff   \n",
       "1  53cdb2fc8bc7dce0b6741e2150273451  af07308b275d755c9edb36a90c618231   \n",
       "\n",
       "  order_status           order_date  order_approved_date          pickup_date  \\\n",
       "0    delivered  2017-10-02 10:56:33  2017-10-02 11:07:15  2017-10-04 19:55:00   \n",
       "1    delivered  2018-07-24 20:41:37  2018-07-26 03:24:27  2018-07-26 14:31:00   \n",
       "\n",
       "        delivered_date estimated_time_delivery  \n",
       "0  2017-10-10 21:25:13     2017-10-18 00:00:00  \n",
       "1  2018-08-07 15:27:45     2018-08-13 00:00:00  "
      ]
     },
     "execution_count": 40,
     "metadata": {},
     "output_type": "execute_result"
    }
   ],
   "source": [
    "counter=1\n",
    "dataframes[df_names[counter]].head(2)"
   ]
  },
  {
   "cell_type": "code",
   "execution_count": 41,
   "metadata": {},
   "outputs": [
    {
     "data": {
      "text/html": [
       "<div>\n",
       "<style scoped>\n",
       "    .dataframe tbody tr th:only-of-type {\n",
       "        vertical-align: middle;\n",
       "    }\n",
       "\n",
       "    .dataframe tbody tr th {\n",
       "        vertical-align: top;\n",
       "    }\n",
       "\n",
       "    .dataframe thead th {\n",
       "        text-align: right;\n",
       "    }\n",
       "</style>\n",
       "<table border=\"1\" class=\"dataframe\">\n",
       "  <thead>\n",
       "    <tr style=\"text-align: right;\">\n",
       "      <th></th>\n",
       "      <th>order_id</th>\n",
       "      <th>order_item_id</th>\n",
       "      <th>product_id</th>\n",
       "      <th>seller_id</th>\n",
       "      <th>pickup_limit_date</th>\n",
       "      <th>price</th>\n",
       "      <th>shipping_cost</th>\n",
       "    </tr>\n",
       "  </thead>\n",
       "  <tbody>\n",
       "    <tr>\n",
       "      <th>0</th>\n",
       "      <td>00010242fe8c5a6d1ba2dd792cb16214</td>\n",
       "      <td>1</td>\n",
       "      <td>4244733e06e7ecb4970a6e2683c13e61</td>\n",
       "      <td>48436dade18ac8b2bce089ec2a041202</td>\n",
       "      <td>2017-09-19 09:45:35</td>\n",
       "      <td>58900.0</td>\n",
       "      <td>13290.0</td>\n",
       "    </tr>\n",
       "    <tr>\n",
       "      <th>1</th>\n",
       "      <td>00018f77f2f0320c557190d7a144bdd3</td>\n",
       "      <td>1</td>\n",
       "      <td>e5f2d52b802189ee658865ca93d83a8f</td>\n",
       "      <td>dd7ddc04e1b6c2c614352b383efe2d36</td>\n",
       "      <td>2017-05-03 11:05:13</td>\n",
       "      <td>239900.0</td>\n",
       "      <td>19930.0</td>\n",
       "    </tr>\n",
       "  </tbody>\n",
       "</table>\n",
       "</div>"
      ],
      "text/plain": [
       "                           order_id  order_item_id  \\\n",
       "0  00010242fe8c5a6d1ba2dd792cb16214              1   \n",
       "1  00018f77f2f0320c557190d7a144bdd3              1   \n",
       "\n",
       "                         product_id                         seller_id  \\\n",
       "0  4244733e06e7ecb4970a6e2683c13e61  48436dade18ac8b2bce089ec2a041202   \n",
       "1  e5f2d52b802189ee658865ca93d83a8f  dd7ddc04e1b6c2c614352b383efe2d36   \n",
       "\n",
       "     pickup_limit_date     price  shipping_cost  \n",
       "0  2017-09-19 09:45:35   58900.0        13290.0  \n",
       "1  2017-05-03 11:05:13  239900.0        19930.0  "
      ]
     },
     "execution_count": 41,
     "metadata": {},
     "output_type": "execute_result"
    }
   ],
   "source": [
    "counter=2\n",
    "dataframes[df_names[counter]].head(2)"
   ]
  },
  {
   "cell_type": "code",
   "execution_count": 42,
   "metadata": {},
   "outputs": [
    {
     "data": {
      "text/html": [
       "<div>\n",
       "<style scoped>\n",
       "    .dataframe tbody tr th:only-of-type {\n",
       "        vertical-align: middle;\n",
       "    }\n",
       "\n",
       "    .dataframe tbody tr th {\n",
       "        vertical-align: top;\n",
       "    }\n",
       "\n",
       "    .dataframe thead th {\n",
       "        text-align: right;\n",
       "    }\n",
       "</style>\n",
       "<table border=\"1\" class=\"dataframe\">\n",
       "  <thead>\n",
       "    <tr style=\"text-align: right;\">\n",
       "      <th></th>\n",
       "      <th>order_id</th>\n",
       "      <th>payment_sequential</th>\n",
       "      <th>payment_type</th>\n",
       "      <th>payment_installments</th>\n",
       "      <th>payment_value</th>\n",
       "    </tr>\n",
       "  </thead>\n",
       "  <tbody>\n",
       "    <tr>\n",
       "      <th>0</th>\n",
       "      <td>b81ef226f3fe1789b1e8b2acac839d17</td>\n",
       "      <td>1</td>\n",
       "      <td>credit_card</td>\n",
       "      <td>8</td>\n",
       "      <td>99330.0</td>\n",
       "    </tr>\n",
       "    <tr>\n",
       "      <th>1</th>\n",
       "      <td>a9810da82917af2d9aefd1278f1dcfa0</td>\n",
       "      <td>1</td>\n",
       "      <td>credit_card</td>\n",
       "      <td>1</td>\n",
       "      <td>24390.0</td>\n",
       "    </tr>\n",
       "  </tbody>\n",
       "</table>\n",
       "</div>"
      ],
      "text/plain": [
       "                           order_id  payment_sequential payment_type  \\\n",
       "0  b81ef226f3fe1789b1e8b2acac839d17                   1  credit_card   \n",
       "1  a9810da82917af2d9aefd1278f1dcfa0                   1  credit_card   \n",
       "\n",
       "   payment_installments  payment_value  \n",
       "0                     8        99330.0  \n",
       "1                     1        24390.0  "
      ]
     },
     "execution_count": 42,
     "metadata": {},
     "output_type": "execute_result"
    }
   ],
   "source": [
    "counter=3\n",
    "dataframes[df_names[counter]].head(2)"
   ]
  },
  {
   "cell_type": "code",
   "execution_count": 43,
   "metadata": {},
   "outputs": [
    {
     "data": {
      "text/html": [
       "<div>\n",
       "<style scoped>\n",
       "    .dataframe tbody tr th:only-of-type {\n",
       "        vertical-align: middle;\n",
       "    }\n",
       "\n",
       "    .dataframe tbody tr th {\n",
       "        vertical-align: top;\n",
       "    }\n",
       "\n",
       "    .dataframe thead th {\n",
       "        text-align: right;\n",
       "    }\n",
       "</style>\n",
       "<table border=\"1\" class=\"dataframe\">\n",
       "  <thead>\n",
       "    <tr style=\"text-align: right;\">\n",
       "      <th></th>\n",
       "      <th>product_id</th>\n",
       "      <th>product_category</th>\n",
       "      <th>product_name_lenght</th>\n",
       "      <th>product_description_lenght</th>\n",
       "      <th>product_photos_qty</th>\n",
       "      <th>product_weight_g</th>\n",
       "      <th>product_length_cm</th>\n",
       "      <th>product_height_cm</th>\n",
       "      <th>product_width_cm</th>\n",
       "    </tr>\n",
       "  </thead>\n",
       "  <tbody>\n",
       "    <tr>\n",
       "      <th>0</th>\n",
       "      <td>1e9e8ef04dbcff4541ed26657ea517e5</td>\n",
       "      <td>perfumery</td>\n",
       "      <td>40.0</td>\n",
       "      <td>287.0</td>\n",
       "      <td>1.0</td>\n",
       "      <td>225.0</td>\n",
       "      <td>16.0</td>\n",
       "      <td>10.0</td>\n",
       "      <td>14.0</td>\n",
       "    </tr>\n",
       "    <tr>\n",
       "      <th>1</th>\n",
       "      <td>3aa071139cb16b67ca9e5dea641aaa2f</td>\n",
       "      <td>art</td>\n",
       "      <td>44.0</td>\n",
       "      <td>276.0</td>\n",
       "      <td>1.0</td>\n",
       "      <td>1000.0</td>\n",
       "      <td>30.0</td>\n",
       "      <td>18.0</td>\n",
       "      <td>20.0</td>\n",
       "    </tr>\n",
       "  </tbody>\n",
       "</table>\n",
       "</div>"
      ],
      "text/plain": [
       "                         product_id product_category  product_name_lenght  \\\n",
       "0  1e9e8ef04dbcff4541ed26657ea517e5        perfumery                 40.0   \n",
       "1  3aa071139cb16b67ca9e5dea641aaa2f              art                 44.0   \n",
       "\n",
       "   product_description_lenght  product_photos_qty  product_weight_g  \\\n",
       "0                       287.0                 1.0             225.0   \n",
       "1                       276.0                 1.0            1000.0   \n",
       "\n",
       "   product_length_cm  product_height_cm  product_width_cm  \n",
       "0               16.0               10.0              14.0  \n",
       "1               30.0               18.0              20.0  "
      ]
     },
     "execution_count": 43,
     "metadata": {},
     "output_type": "execute_result"
    }
   ],
   "source": [
    "counter=4\n",
    "dataframes[df_names[counter]].head(2)"
   ]
  },
  {
   "cell_type": "code",
   "execution_count": 44,
   "metadata": {},
   "outputs": [
    {
     "data": {
      "text/html": [
       "<div>\n",
       "<style scoped>\n",
       "    .dataframe tbody tr th:only-of-type {\n",
       "        vertical-align: middle;\n",
       "    }\n",
       "\n",
       "    .dataframe tbody tr th {\n",
       "        vertical-align: top;\n",
       "    }\n",
       "\n",
       "    .dataframe thead th {\n",
       "        text-align: right;\n",
       "    }\n",
       "</style>\n",
       "<table border=\"1\" class=\"dataframe\">\n",
       "  <thead>\n",
       "    <tr style=\"text-align: right;\">\n",
       "      <th></th>\n",
       "      <th>seller_id</th>\n",
       "      <th>seller_zip_code</th>\n",
       "      <th>seller_city</th>\n",
       "      <th>seller_state</th>\n",
       "    </tr>\n",
       "  </thead>\n",
       "  <tbody>\n",
       "    <tr>\n",
       "      <th>0</th>\n",
       "      <td>3442f8959a84dea7ee197c632cb2df15</td>\n",
       "      <td>13023</td>\n",
       "      <td>KOTA JAKARTA TIMUR</td>\n",
       "      <td>DKI JAKARTA</td>\n",
       "    </tr>\n",
       "    <tr>\n",
       "      <th>1</th>\n",
       "      <td>d1b65fc7debc3361ea86b5f14c68d2e2</td>\n",
       "      <td>13844</td>\n",
       "      <td>KOTA PADANG PANJANG</td>\n",
       "      <td>SUMATERA BARAT</td>\n",
       "    </tr>\n",
       "  </tbody>\n",
       "</table>\n",
       "</div>"
      ],
      "text/plain": [
       "                          seller_id  seller_zip_code          seller_city  \\\n",
       "0  3442f8959a84dea7ee197c632cb2df15            13023   KOTA JAKARTA TIMUR   \n",
       "1  d1b65fc7debc3361ea86b5f14c68d2e2            13844  KOTA PADANG PANJANG   \n",
       "\n",
       "     seller_state  \n",
       "0     DKI JAKARTA  \n",
       "1  SUMATERA BARAT  "
      ]
     },
     "execution_count": 44,
     "metadata": {},
     "output_type": "execute_result"
    }
   ],
   "source": [
    "counter=5\n",
    "dataframes[df_names[counter]].head(2)"
   ]
  },
  {
   "cell_type": "code",
   "execution_count": 45,
   "metadata": {},
   "outputs": [
    {
     "data": {
      "text/html": [
       "<div>\n",
       "<style scoped>\n",
       "    .dataframe tbody tr th:only-of-type {\n",
       "        vertical-align: middle;\n",
       "    }\n",
       "\n",
       "    .dataframe tbody tr th {\n",
       "        vertical-align: top;\n",
       "    }\n",
       "\n",
       "    .dataframe thead th {\n",
       "        text-align: right;\n",
       "    }\n",
       "</style>\n",
       "<table border=\"1\" class=\"dataframe\">\n",
       "  <thead>\n",
       "    <tr style=\"text-align: right;\">\n",
       "      <th></th>\n",
       "      <th>user_name</th>\n",
       "      <th>customer_zip_code</th>\n",
       "      <th>customer_city</th>\n",
       "      <th>customer_state</th>\n",
       "    </tr>\n",
       "  </thead>\n",
       "  <tbody>\n",
       "    <tr>\n",
       "      <th>0</th>\n",
       "      <td>861eff4711a542e4b93843c6dd7febb0</td>\n",
       "      <td>14409</td>\n",
       "      <td>KABUPATEN PEKALONGAN</td>\n",
       "      <td>JAWA TENGAH</td>\n",
       "    </tr>\n",
       "    <tr>\n",
       "      <th>1</th>\n",
       "      <td>290c77bc529b7ac935b93aa66c333dc3</td>\n",
       "      <td>9790</td>\n",
       "      <td>KOTA BEKASI</td>\n",
       "      <td>JAWA BARAT</td>\n",
       "    </tr>\n",
       "  </tbody>\n",
       "</table>\n",
       "</div>"
      ],
      "text/plain": [
       "                          user_name  customer_zip_code         customer_city  \\\n",
       "0  861eff4711a542e4b93843c6dd7febb0              14409  KABUPATEN PEKALONGAN   \n",
       "1  290c77bc529b7ac935b93aa66c333dc3               9790           KOTA BEKASI   \n",
       "\n",
       "  customer_state  \n",
       "0    JAWA TENGAH  \n",
       "1     JAWA BARAT  "
      ]
     },
     "execution_count": 45,
     "metadata": {},
     "output_type": "execute_result"
    }
   ],
   "source": [
    "counter=6\n",
    "dataframes[df_names[counter]].head(2)"
   ]
  },
  {
   "cell_type": "code",
   "execution_count": 137,
   "metadata": {},
   "outputs": [
    {
     "data": {
      "text/plain": [
       "(18, 16219.999999999998)"
      ]
     },
     "execution_count": 137,
     "metadata": {},
     "output_type": "execute_result"
    }
   ],
   "source": [
    "maxe = 0\n",
    "for item in list(order_item_df['shipping_cost'].unique()):\n",
    "    if len(str(item))>maxe:\n",
    "        maxe=len(str(item))\n",
    "        value = item\n",
    "maxe\t,value"
   ]
  },
  {
   "cell_type": "code",
   "execution_count": 138,
   "metadata": {},
   "outputs": [
    {
     "data": {
      "text/plain": [
       "payment_sequential      29\n",
       "payment_type             5\n",
       "payment_installments    24\n",
       "dtype: int64"
      ]
     },
     "execution_count": 138,
     "metadata": {},
     "output_type": "execute_result"
    }
   ],
   "source": [
    "payment_df[['payment_sequential'\t,'payment_type','payment_installments']].nunique()"
   ]
  },
  {
   "cell_type": "code",
   "execution_count": 139,
   "metadata": {},
   "outputs": [
    {
     "data": {
      "text/plain": [
       "3480"
      ]
     },
     "execution_count": 139,
     "metadata": {},
     "output_type": "execute_result"
    }
   ],
   "source": [
    "29*5*24\n"
   ]
  },
  {
   "cell_type": "code",
   "execution_count": 134,
   "metadata": {},
   "outputs": [
    {
     "data": {
      "text/plain": [
       "count                                99441\n",
       "unique                               99441\n",
       "top       e481f51cbdc54678b7cc49136f2d6af7\n",
       "freq                                     1\n",
       "Name: order_id, dtype: object"
      ]
     },
     "execution_count": 134,
     "metadata": {},
     "output_type": "execute_result"
    }
   ],
   "source": [
    "# payment_df['order_id'].describe()['count'],order_df['order_id'].describe()['count'],order_item_df['order_id'].describe()['count']\n",
    "order_df['order_id'].describe()"
   ]
  },
  {
   "cell_type": "code",
   "execution_count": 47,
   "metadata": {},
   "outputs": [
    {
     "ename": "AttributeError",
     "evalue": "'SQLServerETL' object has no attribute 'setup_logging'",
     "output_type": "error",
     "traceback": [
      "\u001b[1;31m---------------------------------------------------------------------------\u001b[0m",
      "\u001b[1;31mAttributeError\u001b[0m                            Traceback (most recent call last)",
      "Cell \u001b[1;32mIn[47], line 212\u001b[0m\n\u001b[0;32m    209\u001b[0m data_folder \u001b[38;5;241m=\u001b[39m \u001b[38;5;124mr\u001b[39m\u001b[38;5;124m'\u001b[39m\u001b[38;5;124mC:\u001b[39m\u001b[38;5;124m\\\u001b[39m\u001b[38;5;124mpath\u001b[39m\u001b[38;5;124m\\\u001b[39m\u001b[38;5;124mto\u001b[39m\u001b[38;5;124m\\\u001b[39m\u001b[38;5;124myour\u001b[39m\u001b[38;5;124m\\\u001b[39m\u001b[38;5;124mdata\u001b[39m\u001b[38;5;124m\\\u001b[39m\u001b[38;5;124mfolder\u001b[39m\u001b[38;5;124m'\u001b[39m  \u001b[38;5;66;03m# Use raw string for Windows paths\u001b[39;00m\n\u001b[0;32m    211\u001b[0m \u001b[38;5;66;03m# For Windows Authentication\u001b[39;00m\n\u001b[1;32m--> 212\u001b[0m etl \u001b[38;5;241m=\u001b[39m SQLServerETL(\n\u001b[0;32m    213\u001b[0m     server\u001b[38;5;241m=\u001b[39mserver,\n\u001b[0;32m    214\u001b[0m     database\u001b[38;5;241m=\u001b[39mdatabase,\n\u001b[0;32m    215\u001b[0m     data_folder_path\u001b[38;5;241m=\u001b[39mdata_folder\n\u001b[0;32m    216\u001b[0m )\n\u001b[0;32m    218\u001b[0m \u001b[38;5;66;03m# For SQL Server Authentication\u001b[39;00m\n\u001b[0;32m    219\u001b[0m \u001b[38;5;66;03m# etl = SQLServerETL(\u001b[39;00m\n\u001b[0;32m    220\u001b[0m \u001b[38;5;66;03m#     server=server,\u001b[39;00m\n\u001b[1;32m   (...)\u001b[0m\n\u001b[0;32m    227\u001b[0m \n\u001b[0;32m    228\u001b[0m \u001b[38;5;66;03m# Date range for date dimension\u001b[39;00m\n\u001b[0;32m    229\u001b[0m start_date \u001b[38;5;241m=\u001b[39m \u001b[38;5;124m'\u001b[39m\u001b[38;5;124m2023-01-01\u001b[39m\u001b[38;5;124m'\u001b[39m\n",
      "Cell \u001b[1;32mIn[47], line 21\u001b[0m, in \u001b[0;36mSQLServerETL.__init__\u001b[1;34m(self, server, database, data_folder_path, username, password, trusted_connection)\u001b[0m\n\u001b[0;32m     13\u001b[0m \u001b[38;5;28mself\u001b[39m\u001b[38;5;241m.\u001b[39mconnection_params \u001b[38;5;241m=\u001b[39m {\n\u001b[0;32m     14\u001b[0m     \u001b[38;5;124m'\u001b[39m\u001b[38;5;124mserver\u001b[39m\u001b[38;5;124m'\u001b[39m: server,\n\u001b[0;32m     15\u001b[0m     \u001b[38;5;124m'\u001b[39m\u001b[38;5;124mdatabase\u001b[39m\u001b[38;5;124m'\u001b[39m: database,\n\u001b[1;32m   (...)\u001b[0m\n\u001b[0;32m     18\u001b[0m     \u001b[38;5;124m'\u001b[39m\u001b[38;5;124mtrusted_connection\u001b[39m\u001b[38;5;124m'\u001b[39m: trusted_connection\n\u001b[0;32m     19\u001b[0m }\n\u001b[0;32m     20\u001b[0m \u001b[38;5;28mself\u001b[39m\u001b[38;5;241m.\u001b[39mdata_folder \u001b[38;5;241m=\u001b[39m data_folder_path\n\u001b[1;32m---> 21\u001b[0m \u001b[38;5;28mself\u001b[39m\u001b[38;5;241m.\u001b[39msetup_logging()\n\u001b[0;32m     22\u001b[0m \u001b[38;5;28mself\u001b[39m\u001b[38;5;241m.\u001b[39mconnect()\n\u001b[0;32m     23\u001b[0m \u001b[38;5;28mself\u001b[39m\u001b[38;5;241m.\u001b[39mload_datasets()\n",
      "\u001b[1;31mAttributeError\u001b[0m: 'SQLServerETL' object has no attribute 'setup_logging'"
     ]
    }
   ],
   "source": [
    "import pandas as pd\n",
    "import numpy as np\n",
    "import pyodbc\n",
    "from datetime import datetime, timedelta\n",
    "import logging\n",
    "import os\n",
    "\n",
    "class SQLServerETL:\n",
    "    def __init__(self, server, database, data_folder_path, username=None, password=None, trusted_connection=True):\n",
    "        \"\"\"\n",
    "        Initialize ETL process with SQL Server connection and data folder path\n",
    "        \"\"\"\n",
    "        self.connection_params = {\n",
    "            'server': server,\n",
    "            'database': database,\n",
    "            'username': username,\n",
    "            'password': password,\n",
    "            'trusted_connection': trusted_connection\n",
    "        }\n",
    "        self.data_folder = data_folder_path\n",
    "        self.setup_logging()\n",
    "        self.connect()\n",
    "        self.load_datasets()\n",
    "    \n",
    "    def connect(self):\n",
    "        \"\"\"Establish connection to SQL Server\"\"\"\n",
    "        if self.connection_params['trusted_connection']:\n",
    "            conn_str = f'DRIVER={{SQL Server}};SERVER={self.connection_params[\"server\"]};DATABASE={self.connection_params[\"database\"]};Trusted_Connection=yes;'\n",
    "        else:\n",
    "            conn_str = f'DRIVER={{SQL Server}};SERVER={self.connection_params[\"server\"]};DATABASE={self.connection_params[\"database\"]};UID={self.connection_params[\"username\"]};PWD={self.connection_params[\"password\"]}'\n",
    "        \n",
    "        self.conn = pyodbc.connect(conn_str)\n",
    "        self.cursor = self.conn.cursor()\n",
    "\n",
    "    def load_datasets(self):\n",
    "        \"\"\"Load all datasets from the folder\"\"\"\n",
    "        try:\n",
    "            self.logger.info(\"Loading datasets from folder\")\n",
    "            \n",
    "            # Load each dataset\n",
    "            self.datasets = {\n",
    "                'users': pd.read_csv(os.path.join(self.data_folder, 'user_dataset.csv')),\n",
    "                'sellers': pd.read_csv(os.path.join(self.data_folder, 'seller_dataset.csv')),\n",
    "                'products': pd.read_csv(os.path.join(self.data_folder, 'products_dataset.csv')),\n",
    "                'orders': pd.read_csv(os.path.join(self.data_folder, 'order_dataset.csv')),\n",
    "                'order_items': pd.read_csv(os.path.join(self.data_folder, 'order_item_dataset.csv')),\n",
    "                'feedback': pd.read_csv(os.path.join(self.data_folder, 'feedback_dataset.csv')),\n",
    "                'payments': pd.read_csv(os.path.join(self.data_folder, 'payment_dataset.csv'))\n",
    "            }\n",
    "            \n",
    "            self.logger.info(\"All datasets loaded successfully\")\n",
    "            \n",
    "        except FileNotFoundError as e:\n",
    "            self.logger.error(f\"File not found: {str(e)}\")\n",
    "            raise\n",
    "        except Exception as e:\n",
    "            self.logger.error(f\"Error loading datasets: {str(e)}\")\n",
    "            raise\n",
    "\n",
    "    # ... [Previous logging and SQL execution methods remain the same] ...\n",
    "\n",
    "    def load_dimension_user(self):\n",
    "        \"\"\"Load user dimension table\"\"\"\n",
    "        self.logger.info(\"Loading user dimension\")\n",
    "        \n",
    "        df = self.datasets['users'].copy()\n",
    "        df['valid_from'] = datetime.now().date()\n",
    "        df['valid_to'] = None\n",
    "        df['is_current'] = True\n",
    "        df['user_key'] = range(1, len(df) + 1)\n",
    "        \n",
    "        self.df_to_sql(df, 'dim_user')\n",
    "        return df\n",
    "\n",
    "    def load_dimension_seller(self):\n",
    "        \"\"\"Load seller dimension table\"\"\"\n",
    "        self.logger.info(\"Loading seller dimension\")\n",
    "        \n",
    "        df = self.datasets['sellers'].copy()\n",
    "        df['valid_from'] = datetime.now().date()\n",
    "        df['valid_to'] = None\n",
    "        df['is_current'] = True\n",
    "        df['seller_key'] = range(1, len(df) + 1)\n",
    "        \n",
    "        self.df_to_sql(df, 'dim_seller')\n",
    "        return df\n",
    "\n",
    "    def load_dimension_product(self):\n",
    "        \"\"\"Load product dimension table\"\"\"\n",
    "        self.logger.info(\"Loading product dimension\")\n",
    "        \n",
    "        df = self.datasets['products'].copy()\n",
    "        df['valid_from'] = datetime.now().date()\n",
    "        df['valid_to'] = None\n",
    "        df['is_current'] = True\n",
    "        df['product_key'] = range(1, len(df) + 1)\n",
    "        \n",
    "        self.df_to_sql(df, 'dim_product')\n",
    "        return df\n",
    "\n",
    "    def load_fact_order_details(self):\n",
    "        \"\"\"Load fact order details table\"\"\"\n",
    "        self.logger.info(\"Loading fact order details\")\n",
    "        \n",
    "        # Merge order items with orders\n",
    "        merged_df = pd.merge(\n",
    "            self.datasets['order_items'], \n",
    "            self.datasets['orders'], \n",
    "            on='order_id', \n",
    "            how='left'\n",
    "        )\n",
    "        \n",
    "        # Add feedback data\n",
    "        merged_df = pd.merge(\n",
    "            merged_df,\n",
    "            self.datasets['feedback'][['order_id', 'feedback_score', \n",
    "                                     'feedback_form_sent_date', \n",
    "                                     'feedback_answer_date']],\n",
    "            on='order_id',\n",
    "            how='left'\n",
    "        )\n",
    "        \n",
    "        # Convert dates to date_key format\n",
    "        for date_col in ['order_date', 'order_approved_date', 'pickup_date', \n",
    "                        'delivered_date', 'estimated_time_delivery']:\n",
    "            if date_col in merged_df.columns:\n",
    "                merged_df[f'{date_col}_key'] = pd.to_datetime(\n",
    "                    merged_df[date_col]).dt.strftime('%Y%m%d').astype(float)\n",
    "        \n",
    "        # Select and rename columns for final fact table\n",
    "        fact_columns = {\n",
    "            'order_id': 'order_id',\n",
    "            'order_item_id': 'order_item_id',\n",
    "            'product_id': 'product_key',\n",
    "            'seller_id': 'seller_key',\n",
    "            'order_date_key': 'order_date_key',\n",
    "            'order_approved_date_key': 'approved_date_key',\n",
    "            'delivered_date_key': 'delivered_date_key',\n",
    "            'estimated_time_delivery_key': 'estimated_delivery_date_key',\n",
    "            'order_status': 'order_status',\n",
    "            'price': 'price',\n",
    "            'shipping_cost': 'shipping_cost',\n",
    "            'feedback_score': 'feedback_score',\n",
    "            'feedback_form_sent_date': 'feedback_date',\n",
    "            'feedback_answer_date': 'feedback_answer_date'\n",
    "        }\n",
    "        \n",
    "        fact_df = merged_df[fact_columns.keys()].rename(columns=fact_columns)\n",
    "        fact_df['order_detail_key'] = range(1, len(fact_df) + 1)\n",
    "        \n",
    "        self.df_to_sql(fact_df, 'fact_order_details')\n",
    "        return fact_df\n",
    "\n",
    "    def load_fact_payments(self):\n",
    "        \"\"\"Load fact payments table\"\"\"\n",
    "        self.logger.info(\"Loading fact payments\")\n",
    "        \n",
    "        df = self.datasets['payments'].copy()\n",
    "        \n",
    "        # Get order_detail_key mapping\n",
    "        self.cursor.execute('SELECT order_detail_key, order_id FROM fact_order_details')\n",
    "        order_details_map = dict(self.cursor.fetchall())\n",
    "        \n",
    "        # Map order_id to order_detail_key\n",
    "        df['order_detail_key'] = df['order_id'].map(order_details_map)\n",
    "        \n",
    "        # Select relevant columns\n",
    "        payment_columns = [\n",
    "            'order_detail_key', 'payment_sequential', 'payment_type',\n",
    "            'payment_installments', 'payment_value'\n",
    "        ]\n",
    "        \n",
    "        df = df[payment_columns]\n",
    "        df['payment_key'] = range(1, len(df) + 1)\n",
    "        \n",
    "        self.df_to_sql(df, 'fact_payments')\n",
    "        return df\n",
    "\n",
    "    def run_etl(self, start_date, end_date):\n",
    "        \"\"\"Run the complete ETL process\"\"\"\n",
    "        try:\n",
    "            self.logger.info(\"Starting ETL process\")\n",
    "            \n",
    "            # Generate date dimension\n",
    "            self.generate_date_dimension(start_date, end_date)\n",
    "            \n",
    "            # Load dimensions\n",
    "            self.load_dimension_user()\n",
    "            self.load_dimension_seller()\n",
    "            self.load_dimension_product()\n",
    "            \n",
    "            # Load facts\n",
    "            self.load_fact_order_details()\n",
    "            self.load_fact_payments()\n",
    "            \n",
    "            self.logger.info(\"ETL process completed successfully\")\n",
    "            \n",
    "        except Exception as e:\n",
    "            self.logger.error(f\"ETL process failed: {str(e)}\")\n",
    "            raise\n",
    "        finally:\n",
    "            self.conn.close()\n",
    "\n",
    "# Example usage\n",
    "if __name__ == \"__main__\":\n",
    "    # SQL Server connection parameters\n",
    "    server = 'YOUR_SERVER_NAME'  # e.g., 'localhost\\SQLEXPRESS'\n",
    "    database = 'YOUR_DATABASE_NAME'\n",
    "    data_folder = r'C:\\path\\to\\your\\data\\folder'  # Use raw string for Windows paths\n",
    "    \n",
    "    # For Windows Authentication\n",
    "    etl = SQLServerETL(\n",
    "        server=server,\n",
    "        database=database,\n",
    "        data_folder_path=data_folder\n",
    "    )\n",
    "    \n",
    "    # For SQL Server Authentication\n",
    "    # etl = SQLServerETL(\n",
    "    #     server=server,\n",
    "    #     database=database,\n",
    "    #     data_folder_path=data_folder,\n",
    "    #     username='your_username',\n",
    "    #     password='your_password',\n",
    "    #     trusted_connection=False\n",
    "    # )\n",
    "    \n",
    "    # Date range for date dimension\n",
    "    start_date = '2023-01-01'\n",
    "    end_date = '2024-12-31'\n",
    "    \n",
    "    # Run ETL\n",
    "    etl.run_etl(start_date, end_date)"
   ]
  }
 ],
 "metadata": {
  "kernelspec": {
   "display_name": "base",
   "language": "python",
   "name": "python3"
  },
  "language_info": {
   "codemirror_mode": {
    "name": "ipython",
    "version": 3
   },
   "file_extension": ".py",
   "mimetype": "text/x-python",
   "name": "python",
   "nbconvert_exporter": "python",
   "pygments_lexer": "ipython3",
   "version": "3.11.10"
  }
 },
 "nbformat": 4,
 "nbformat_minor": 2
}
